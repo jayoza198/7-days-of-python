{
  "nbformat": 4,
  "nbformat_minor": 0,
  "metadata": {
    "colab": {
      "provenance": []
    },
    "kernelspec": {
      "name": "python3",
      "display_name": "Python 3"
    },
    "language_info": {
      "name": "python"
    }
  },
  "cells": [
    {
      "cell_type": "markdown",
      "source": [
        "# File I/O in python\n",
        "\n",
        "## Files\n",
        "\n",
        "Files are named locations on disk to store related information. They are used to permanently store data in a non-volatile memory (e.g. hard disk).\n",
        "\n",
        "Since Random Access Memory (RAM) is volatile (which loses its data when the computer is turned off), we use files for future use of the data by permanently storing them.\n",
        "\n",
        "When we want to read from or write to a file, we need to open it first. When we are done, it needs to be closed so that the resources that are tied with the file are freed.\n",
        "\n",
        "Hence, in Python, a file operation takes place in the following order:\n",
        "\n",
        "    1. Open a file\n",
        "    2. Read or write (perform operation)\n",
        "    3. Close the file\n"
      ],
      "metadata": {
        "id": "j2wJVxE5Ec81"
      }
    },
    {
      "cell_type": "markdown",
      "source": [
        "## Opening Files in Python\n",
        "\n",
        "Python has a built-in open() function to open a file. This function returns a file object, also called a handle, as it is used to read or modify the file accordingly.\n",
        "\n"
      ],
      "metadata": {
        "id": "KDwqQ_RfErS9"
      }
    },
    {
      "cell_type": "code",
      "source": [
        "f = open(\"test.txt\")    # open file in current directory\n",
        "f = open(\"C:/Python38/README.txt\")  # specifying full path"
      ],
      "metadata": {
        "id": "i8Gxx7MaEpuO"
      },
      "execution_count": null,
      "outputs": []
    },
    {
      "cell_type": "markdown",
      "source": [
        "We can specify the mode while opening a file. In mode, we specify whether we want to read r, write w or append a to the file. We can also specify if we want to open the file in text mode or binary mode.\n",
        "\n",
        "The default is reading in text mode. In this mode, we get strings when reading from the file.\n",
        "\n",
        "On the other hand, binary mode returns bytes and this is the mode to be used when dealing with non-text files like images or executable files."
      ],
      "metadata": {
        "id": "Z33J-lfJE2kU"
      }
    },
    {
      "cell_type": "code",
      "source": [
        "f = open(\"test.txt\")      # equivalent to 'r' or 'rt'\n",
        "f = open(\"test.txt\",'w')  # write in text mode\n",
        "f = open(\"img.bmp\",'r+b') # read and write in binary mode"
      ],
      "metadata": {
        "id": "OKH3jwpAE4S1"
      },
      "execution_count": null,
      "outputs": []
    },
    {
      "cell_type": "markdown",
      "source": [
        "Unlike other languages, the character a does not imply the number 97 until it is encoded using ASCII (or other equivalent encodings).\n",
        "\n",
        "Moreover, the default encoding is platform dependent. In windows, it is cp1252 but utf-8 in Linux.\n",
        "\n",
        "So, we must not also rely on the default encoding or else our code will behave differently in different platforms.\n",
        "\n",
        "Hence, when working with files in text mode, it is highly recommended to specify the encoding type."
      ],
      "metadata": {
        "id": "oxNmejXZFDwt"
      }
    },
    {
      "cell_type": "code",
      "source": [
        "f = open(\"test.txt\", mode='r', encoding='utf-8')"
      ],
      "metadata": {
        "id": "Ge5VCRJsFFgT"
      },
      "execution_count": null,
      "outputs": []
    },
    {
      "cell_type": "markdown",
      "source": [
        "## Closing Files in Python\n",
        "\n",
        "When we are done with performing operations on the file, we need to properly close the file.\n",
        "\n",
        "Closing a file will free up the resources that were tied with the file. It is done using the close() method available in Python.\n",
        "\n",
        "Python has a garbage collector to clean up unreferenced objects but we must not rely on it to close the file"
      ],
      "metadata": {
        "id": "DDLLKe6nFHea"
      }
    },
    {
      "cell_type": "code",
      "source": [
        "f = open(\"test.txt\", encoding = 'utf-8')\n",
        "# perform file operations\n",
        "f.close()"
      ],
      "metadata": {
        "id": "0FIyH3v7FKVD"
      },
      "execution_count": null,
      "outputs": []
    },
    {
      "cell_type": "markdown",
      "source": [
        "This method is not entirely safe. If an exception occurs when we are performing some operation with the file, the code exits without closing the file.\n",
        "\n",
        "A safer way is to use a try...finally block."
      ],
      "metadata": {
        "id": "D4rH7b92FMfv"
      }
    },
    {
      "cell_type": "code",
      "source": [
        "try:\n",
        "   f = open(\"test.txt\", encoding = 'utf-8')\n",
        "   # perform file operations\n",
        "finally:\n",
        "   f.close()"
      ],
      "metadata": {
        "id": "mm1ejGKoFONy"
      },
      "execution_count": null,
      "outputs": []
    },
    {
      "cell_type": "markdown",
      "source": [
        "## Writing to Files in Python\n",
        "\n",
        "In order to write into a file in Python, we need to open it in write w, append a or exclusive creation x mode.\n",
        "\n",
        "We need to be careful with the w mode, as it will overwrite into the file if it already exists. Due to this, all the previous data are erased.\n",
        "\n",
        "Writing a string or sequence of bytes (for binary files) is done using the write() method. This method returns the number of characters written to the file."
      ],
      "metadata": {
        "id": "k9cKoZHtFQOb"
      }
    },
    {
      "cell_type": "code",
      "source": [
        "with open(\"test.txt\",'w',encoding = 'utf-8') as f:\n",
        "   f.write(\"my first file\\n\")\n",
        "   f.write(\"This file\\n\\n\")\n",
        "   f.write(\"contains three lines\\n\")"
      ],
      "metadata": {
        "id": "wuEnqr60FTTT"
      },
      "execution_count": null,
      "outputs": []
    },
    {
      "cell_type": "markdown",
      "source": [
        "Reading Files in Python\n",
        "\n",
        "To read a file in Python, we must open the file in reading r mode.\n",
        "\n",
        "There are various methods available for this purpose. We can use the read(size) method to read in the size number of data. If the size parameter is not specified, it reads and returns up to the end of the file.\n",
        "\n",
        "We can read the text.txt file we wrote in the above section in the following way:"
      ],
      "metadata": {
        "id": "K26PLGFVFVbJ"
      }
    },
    {
      "cell_type": "code",
      "source": [
        "f = open(\"test.txt\",'r',encoding = 'utf-8')\n",
        "f.read(4)  # read the first 4 data\n",
        "f.read(4)  # read the next 4 data\n",
        "f.read()   # read in the rest till end of file\n",
        "f.read()    # further reading returns empty sting"
      ],
      "metadata": {
        "id": "cG0pTnOhFZT-"
      },
      "execution_count": null,
      "outputs": []
    },
    {
      "cell_type": "markdown",
      "source": [
        "We can see that the read() method returns a newline as '\\n'. Once the end of the file is reached, we get an empty string on further reading.\n",
        "\n",
        "We can change our current file cursor (position) using the seek() method. Similarly, the tell() method returns our current position (in number of bytes)."
      ],
      "metadata": {
        "id": "joyQ8Z3wFrep"
      }
    },
    {
      "cell_type": "code",
      "source": [
        "f.tell()    # get the current file position\n",
        "f.seek(0)   # bring file cursor to initial position\n",
        "print(f.read())  # read the entire file"
      ],
      "metadata": {
        "id": "DLk6Zz5VFtLA"
      },
      "execution_count": null,
      "outputs": []
    },
    {
      "cell_type": "markdown",
      "source": [
        "In this program, the lines in the file itself include a newline character \\n. So, we use the end parameter of the print() function to avoid two newlines when printing.\n",
        "\n",
        "Alternatively, we can use the readline() method to read individual lines of a file. This method reads a file till the newline, including the newline character."
      ],
      "metadata": {
        "id": "oRNAYMVaF9t_"
      }
    },
    {
      "cell_type": "code",
      "source": [
        "f.readline() #reads and displays the firstline\n",
        "f.readline() #reads and displays second line"
      ],
      "metadata": {
        "id": "BuW12KsgF_Pb"
      },
      "execution_count": null,
      "outputs": []
    },
    {
      "cell_type": "markdown",
      "source": [
        "Lastly, the readlines() method returns a list of remaining lines of the entire file. All these reading methods return empty values when the end of file (EOF) is reached."
      ],
      "metadata": {
        "id": "VOZEf12bGNOu"
      }
    },
    {
      "cell_type": "code",
      "source": [
        "f.readlines() # reads and prints all the lines"
      ],
      "metadata": {
        "id": "EvanATVCGPBP"
      },
      "execution_count": null,
      "outputs": []
    },
    {
      "cell_type": "markdown",
      "source": [
        "# Pickle and Unpickle in Python\n",
        "\n",
        "Python comes with a built-in package, known as pickle, that can be used to perform pickling and unpickling operations.\n",
        "\n",
        "Pickling and unpickling in Python is the process that is used to describe the conversion of objects into byte streams and vice versa - serialization and deserialization, using Python's pickle module. Let's take a look at a few examples!"
      ],
      "metadata": {
        "id": "4sJefuIsGdrk"
      }
    },
    {
      "cell_type": "code",
      "source": [
        "import pickle\n",
        "\n",
        "athletes = {\n",
        "    \"Name\": [\"Cristiano Ronaldo\", \"Lionel Messi\", \"Eden Hazard\", \"Luis Suarez\", \"Neymar\"],\n",
        "    \"Club\": [\"Manchester United\", \"PSG\", \"Real Madrid\", \"Atletico Madrid\", \"PSG\"]\n",
        " }\n",
        "\n",
        "print(athletes)"
      ],
      "metadata": {
        "colab": {
          "base_uri": "https://localhost:8080/"
        },
        "id": "8YNv_lXNGvwl",
        "outputId": "0b9c94ed-ed85-48f9-c706-8dd94b78dc31"
      },
      "execution_count": 2,
      "outputs": [
        {
          "output_type": "stream",
          "name": "stdout",
          "text": [
            "{'Name': ['Cristiano Ronaldo', 'Lionel Messi', 'Eden Hazard', 'Luis Suarez', 'Neymar'], 'Club': ['Manchester United', 'PSG', 'Real Madrid', 'Atletico Madrid', 'PSG']}\n"
          ]
        }
      ]
    },
    {
      "cell_type": "code",
      "source": [
        "athletes_file = open('athletes.txt', 'wb')\n",
        "pickle.dump(athletes, athletes_file)\n",
        "athletes_file.close()"
      ],
      "metadata": {
        "id": "TQ0OuMivGxv7"
      },
      "execution_count": 3,
      "outputs": []
    },
    {
      "cell_type": "markdown",
      "source": [
        "The load() function reads the contents of a pickled file and returns the object constructed by reading the data. The type of object as well as its state depend on the contents of the file. Since we've saved a dictionary with athlete names - this object with the same entries is reconstructed. Let's read the pickled file you just created back to a Python object and print its contents"
      ],
      "metadata": {
        "id": "rdtvYVwWG5bo"
      }
    },
    {
      "cell_type": "code",
      "source": [
        "import pickle\n",
        "\n",
        "athletes_file = open(\"athletes.txt\", \"rb\")\n",
        "athletes = pickle.load(athletes_file)\n",
        "athletes_file.close()\n",
        "print(athletes)"
      ],
      "metadata": {
        "colab": {
          "base_uri": "https://localhost:8080/"
        },
        "id": "wAzNKFDGG0Fx",
        "outputId": "26e10ba9-24f2-41d4-f345-d2869688b508"
      },
      "execution_count": 4,
      "outputs": [
        {
          "output_type": "stream",
          "name": "stdout",
          "text": [
            "{'Name': ['Cristiano Ronaldo', 'Lionel Messi', 'Eden Hazard', 'Luis Suarez', 'Neymar'], 'Club': ['Manchester United', 'PSG', 'Real Madrid', 'Atletico Madrid', 'PSG']}\n"
          ]
        }
      ]
    },
    {
      "cell_type": "markdown",
      "source": [
        "## How to read a pickle file in a pandas DataFrame?\n"
      ],
      "metadata": {
        "id": "3YuFiUdwHCHa"
      }
    },
    {
      "cell_type": "code",
      "source": [
        "import pickle\n",
        "import pandas as pd\n",
        "\n",
        "athletes = {\n",
        "    \"Name\": [\"Cristiano Ronaldo\", \"Lionel Messi\", \"Eden Hazard\", \"Luis Suarez\", \"Neymar\"],        \n",
        "    \"Club\": [\"Manchester United\", \"PSG\", \"Real Madrid\", \"Atletico Madrid\", \"PSG\"]\n",
        "}\n",
        "\n",
        "df = pd.DataFrame(athletes)\n",
        "print(df)"
      ],
      "metadata": {
        "colab": {
          "base_uri": "https://localhost:8080/"
        },
        "id": "WYeAFKHnG2Kd",
        "outputId": "0f98c39f-7dc9-4ee8-9cb3-85b7e4308782"
      },
      "execution_count": 5,
      "outputs": [
        {
          "output_type": "stream",
          "name": "stdout",
          "text": [
            "                Name               Club\n",
            "0  Cristiano Ronaldo  Manchester United\n",
            "1       Lionel Messi                PSG\n",
            "2        Eden Hazard        Real Madrid\n",
            "3        Luis Suarez    Atletico Madrid\n",
            "4             Neymar                PSG\n"
          ]
        }
      ]
    },
    {
      "cell_type": "markdown",
      "source": [
        "As you can see in the output, we will get a Pandas DataFrame object with 3 columns and 6 rows including the indices. After this, the process is similar to how we handled the normal, non-DataFrame objects. We will use file handling along with the dump() and load() methods to first create a pickle file from a Pandas DataFrame, and then read the byte stream to get the Pandas DataFrame"
      ],
      "metadata": {
        "id": "jqAaGee9HTpD"
      }
    },
    {
      "cell_type": "code",
      "source": [
        "df = pd.DataFrame(athletes)\n",
        "\n",
        "athelets_df_file = open(\"athletes_df.txt\", \"wb\")\n",
        "pickle.dump(df, athelets_df_file)\n",
        "athelets_df_file.close()"
      ],
      "metadata": {
        "id": "tOFTkZA-HH4i"
      },
      "execution_count": 6,
      "outputs": []
    },
    {
      "cell_type": "markdown",
      "source": [
        "The above code will create a pickle file that will store the Pandas DataFrame as a byte stream in our current directory as athletes_df.txt.\n",
        "\n",
        "When we want to use this DataFrame again, we can just unpickle this file to get it back"
      ],
      "metadata": {
        "id": "zuSUjJFmHVip"
      }
    },
    {
      "cell_type": "code",
      "source": [
        "import pickle\n",
        "\n",
        "athletes_df_file = open(\"athletes_df.txt\", \"rb\")\n",
        "athletes = pickle.load(athletes_df_file)\n",
        "athletes_df_file.close()\n",
        "print(athletes)"
      ],
      "metadata": {
        "colab": {
          "base_uri": "https://localhost:8080/"
        },
        "id": "hpv7s2F2HNCH",
        "outputId": "7380f57e-e8f2-483d-896f-b045f8627bd9"
      },
      "execution_count": 7,
      "outputs": [
        {
          "output_type": "stream",
          "name": "stdout",
          "text": [
            "                Name               Club\n",
            "0  Cristiano Ronaldo  Manchester United\n",
            "1       Lionel Messi                PSG\n",
            "2        Eden Hazard        Real Madrid\n",
            "3        Luis Suarez    Atletico Madrid\n",
            "4             Neymar                PSG\n"
          ]
        }
      ]
    },
    {
      "cell_type": "markdown",
      "source": [
        "## Pickling into strings and unpickling from strings\n",
        "\n"
      ],
      "metadata": {
        "id": "3-_M77AjHcjx"
      }
    },
    {
      "cell_type": "code",
      "source": [
        "import pickle\n",
        "\n",
        "simple_obj = {1: ['o', 'n', 'e'], \"two\": (1, 2), 3: \"Three\"}\n",
        "pickled_obj = pickle.dumps(simple_obj)\n",
        "print(pickled_obj)"
      ],
      "metadata": {
        "colab": {
          "base_uri": "https://localhost:8080/"
        },
        "id": "hWTx2XkNHaQb",
        "outputId": "b7353743-0438-4b42-b8fe-e9bec22b70f4"
      },
      "execution_count": 8,
      "outputs": [
        {
          "output_type": "stream",
          "name": "stdout",
          "text": [
            "b'\\x80\\x04\\x95-\\x00\\x00\\x00\\x00\\x00\\x00\\x00}\\x94(K\\x01]\\x94(\\x8c\\x01o\\x94\\x8c\\x01n\\x94\\x8c\\x01e\\x94e\\x8c\\x03two\\x94K\\x01K\\x02\\x86\\x94K\\x03\\x8c\\x05Three\\x94u.'\n"
          ]
        }
      ]
    },
    {
      "cell_type": "code",
      "source": [
        "out = pickle.loads(pickled_obj)\n",
        "print(out)"
      ],
      "metadata": {
        "colab": {
          "base_uri": "https://localhost:8080/"
        },
        "id": "wloiWU2UHiyC",
        "outputId": "76011656-6d1a-410f-abf1-5c36e0b6cc05"
      },
      "execution_count": 11,
      "outputs": [
        {
          "output_type": "stream",
          "name": "stdout",
          "text": [
            "{1: ['o', 'n', 'e'], 'two': (1, 2), 3: 'Three'}\n"
          ]
        }
      ]
    },
    {
      "cell_type": "markdown",
      "source": [
        "# Slicing in Python\n",
        "\n",
        "Python slice() function is used to get a slice of elements from the collection of elements. Python provides two overloaded slice functions. The first function takes a single argument while the second function takes three arguments and returns a slice object. This slice object can be used to get a subsection of the collection. For example, if we want to get first two elements from the ten element?s list, here slice can be used."
      ],
      "metadata": {
        "id": "34uuuk4NH-f_"
      }
    },
    {
      "cell_type": "code",
      "source": [
        "# Python slice() function example  \n",
        "# Calling function  \n",
        "result = slice(5) # returns slice object\n",
        "result2 = slice(0,5,3) # returns slice object\n",
        "# Displaying result  \n",
        "print(result)\n",
        "print(result2)"
      ],
      "metadata": {
        "colab": {
          "base_uri": "https://localhost:8080/"
        },
        "id": "HYjCTRPSIKAk",
        "outputId": "80fe9184-8431-40fe-bdca-13e2cc5c7862"
      },
      "execution_count": 13,
      "outputs": [
        {
          "output_type": "stream",
          "name": "stdout",
          "text": [
            "slice(None, 5, None)\n",
            "slice(0, 5, 3)\n"
          ]
        }
      ]
    },
    {
      "cell_type": "code",
      "source": [
        "# Python slice() function example  \n",
        "# Calling function  \n",
        "tup=(45,68,955,1214,41,558,636,66)\n",
        "slic=slice(0,10,3) #returns slice object\n",
        "slic2=slice(-1,0,-3) #returns slice object\n",
        "# We can use this slice object to get elements  \n",
        "str2=tup[slic]\n",
        "str3=tup[slic2] #returns elements in reverse order\n",
        "# Displaying result  \n",
        "print(str2)\n",
        "print(str3)"
      ],
      "metadata": {
        "colab": {
          "base_uri": "https://localhost:8080/"
        },
        "id": "vJtk53ImINH2",
        "outputId": "4e20bf89-2c01-453c-8b95-420c2d3b9f39"
      },
      "execution_count": 14,
      "outputs": [
        {
          "output_type": "stream",
          "name": "stdout",
          "text": [
            "(45, 1214, 636)\n",
            "(66, 41, 68)\n"
          ]
        }
      ]
    },
    {
      "cell_type": "code",
      "source": [
        " # Python slice() function example  \n",
        "# Calling function  \n",
        "tup=(45,68,955,1214,41,558,636,66)\n",
        "slic=slice(0,10,3) #returns slice object\n",
        "slic2=tup[0:10:3] #fetch the same elements\n",
        "# We can use this slice object to get elements  \n",
        "str2=tup[slic]\n",
        "# Displaying result  \n",
        "print(str2)\n",
        "print(slic2)"
      ],
      "metadata": {
        "colab": {
          "base_uri": "https://localhost:8080/"
        },
        "id": "FM9ATE_WInX2",
        "outputId": "4c406500-5612-406b-cb36-ed40cc55af55"
      },
      "execution_count": 15,
      "outputs": [
        {
          "output_type": "stream",
          "name": "stdout",
          "text": [
            "(45, 1214, 636)\n",
            "(45, 1214, 636)\n"
          ]
        }
      ]
    },
    {
      "cell_type": "code",
      "source": [],
      "metadata": {
        "id": "I1lnS53OI1uJ"
      },
      "execution_count": null,
      "outputs": []
    }
  ]
}