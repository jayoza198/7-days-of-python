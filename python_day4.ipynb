{
  "nbformat": 4,
  "nbformat_minor": 0,
  "metadata": {
    "colab": {
      "provenance": []
    },
    "kernelspec": {
      "name": "python3",
      "display_name": "Python 3"
    },
    "language_info": {
      "name": "python"
    }
  },
  "cells": [
    {
      "cell_type": "markdown",
      "source": [
        "# Object Oriented Programming in Python\n",
        "Python is a multi-paradigm programming language. It supports different programming approaches.\n",
        "\n",
        "Python is also an object-oriented programming language. And, like other OOP languages, it also supports the concept of objects and classes.\n",
        "\n",
        "An object is any entity that has attributes and behaviors. For example, a parrot is an object. It has\n",
        "\n",
        "    attributes - name, age, color, etc.\n",
        "    behavior - dancing, singing, etc.\n",
        "\n",
        "Similarly, a class is a blueprint for that object."
      ],
      "metadata": {
        "id": "GUtK36b1BqCH"
      }
    },
    {
      "cell_type": "markdown",
      "source": [
        "In the example, we created a class with the name Parrot with two attributes: name and age.\n",
        "\n",
        "Then, we create instances of the Parrot class. Here, parrot1 and parrot2 are references (value) to our new objects.\n",
        "\n",
        "We then accessed and assigned different values to the instance attributes using the objects name and the . notation."
      ],
      "metadata": {
        "id": "nlHaB3JlC176"
      }
    },
    {
      "cell_type": "code",
      "source": [
        "class Parrot:\n",
        "\n",
        "    # class attribute\n",
        "    name = \"\"\n",
        "    age = 0\n",
        "\n",
        "# create parrot1 object\n",
        "parrot1 = Parrot()\n",
        "parrot1.name = \"Blu\"\n",
        "parrot1.age = 10\n",
        "\n",
        "# create another object parrot2\n",
        "parrot2 = Parrot()\n",
        "parrot2.name = \"Woo\"\n",
        "parrot2.age = 15\n",
        "\n",
        "# access attributes\n",
        "print(f\"{parrot1.name} is {parrot1.age} years old\")\n",
        "print(f\"{parrot2.name} is {parrot2.age} years old\")"
      ],
      "metadata": {
        "colab": {
          "base_uri": "https://localhost:8080/"
        },
        "id": "tfGr4fgVCxuh",
        "outputId": "2d327377-c960-4e47-c662-0695a2816b75"
      },
      "execution_count": 1,
      "outputs": [
        {
          "output_type": "stream",
          "name": "stdout",
          "text": [
            "Blu is 10 years old\n",
            "Woo is 15 years old\n"
          ]
        }
      ]
    },
    {
      "cell_type": "markdown",
      "source": [
        "#Python Encapsulation\n",
        "\n",
        "Encapsulation is one of the key features of object-oriented programming. Encapsulation refers to the bundling of attributes and methods inside a single class.\n",
        "\n",
        "It prevents outer classes from accessing and changing attributes and methods of a class. This also helps to achieve data hiding."
      ],
      "metadata": {
        "id": "tD8AhxpxDKaP"
      }
    },
    {
      "cell_type": "code",
      "source": [
        "class Computer:\n",
        "\n",
        "    def __init__(self):\n",
        "        self.__maxprice = 900\n",
        "\n",
        "    def sell(self):\n",
        "        print(\"Selling Price: {}\".format(self.__maxprice))\n",
        "\n",
        "    def setMaxPrice(self, price):\n",
        "        self.__maxprice = price\n",
        "\n",
        "c = Computer()\n",
        "c.sell()\n",
        "\n",
        "# change the price\n",
        "c.__maxprice = 1000\n",
        "c.sell()\n",
        "\n",
        "# using setter function\n",
        "c.setMaxPrice(1000)\n",
        "c.sell()"
      ],
      "metadata": {
        "colab": {
          "base_uri": "https://localhost:8080/"
        },
        "id": "x4h2I2CCC9hn",
        "outputId": "6a30dabd-21c3-4d38-f5d1-bb92fd3a0f62"
      },
      "execution_count": 2,
      "outputs": [
        {
          "output_type": "stream",
          "name": "stdout",
          "text": [
            "Selling Price: 900\n",
            "Selling Price: 900\n",
            "Selling Price: 1000\n"
          ]
        }
      ]
    },
    {
      "cell_type": "markdown",
      "source": [
        "#Polymorphism\n",
        "\n",
        "Polymorphism is another important concept of object-oriented programming. It simply means more than one form.\n",
        "\n",
        "That is, the same entity (method or operator or object) can perform different operations in different scenarios."
      ],
      "metadata": {
        "id": "3CNeXXzsDopB"
      }
    },
    {
      "cell_type": "code",
      "source": [
        "class Polygon:\n",
        "    # method to render a shape\n",
        "    def render(self):\n",
        "        print(\"Rendering Polygon...\")\n",
        "\n",
        "class Square(Polygon):\n",
        "    # renders Square\n",
        "    def render(self):\n",
        "        print(\"Rendering Square...\")\n",
        "\n",
        "class Circle(Polygon):\n",
        "    # renders circle\n",
        "    def render(self):\n",
        "        print(\"Rendering Circle...\")\n",
        "    \n",
        "# create an object of Square\n",
        "s1 = Square()\n",
        "s1.render()\n",
        "\n",
        "# create an object of Circle\n",
        "c1 = Circle()\n",
        "c1.render()"
      ],
      "metadata": {
        "colab": {
          "base_uri": "https://localhost:8080/"
        },
        "id": "ol0ZuZ4lDkMx",
        "outputId": "136f3676-8533-46ef-95d5-e9d9c8dedfb6"
      },
      "execution_count": 3,
      "outputs": [
        {
          "output_type": "stream",
          "name": "stdout",
          "text": [
            "Rendering Square...\n",
            "Rendering Circle...\n"
          ]
        }
      ]
    },
    {
      "cell_type": "markdown",
      "source": [
        "In the above example, we have created a superclass: Polygon and two subclasses: Square and Circle. Notice the use of the render() method.\n",
        "\n",
        "The main purpose of the render() method is to render the shape. However, the process of rendering a square is different from the process of rendering a circle.\n",
        "\n",
        "Hence, the render() method behaves differently in different classes. Or, we can say render() is polymorphic."
      ],
      "metadata": {
        "id": "vqPB4E64DzCp"
      }
    },
    {
      "cell_type": "markdown",
      "source": [
        "#Python Inheritance\n",
        "\n",
        "Inheritance is a way of creating a new class for using details of an existing class without modifying it.\n",
        "\n",
        "The newly formed class is a derived class (or child class). Similarly, the existing class is a base class (or parent class)."
      ],
      "metadata": {
        "id": "iseQgvBoD9_e"
      }
    },
    {
      "cell_type": "code",
      "source": [
        "# base class\n",
        "class Animal:\n",
        "    \n",
        "    def eat(self):\n",
        "        print( \"I can eat!\")\n",
        "    \n",
        "    def sleep(self):\n",
        "        print(\"I can sleep!\")\n",
        "\n",
        "# derived class\n",
        "class Dog(Animal):\n",
        "    \n",
        "    def bark(self):\n",
        "        print(\"I can bark! Woof woof!!\")\n",
        "\n",
        "# Create object of the Dog class\n",
        "dog1 = Dog()\n",
        "\n",
        "# Calling members of the base class\n",
        "dog1.eat()\n",
        "dog1.sleep()\n",
        "\n",
        "# Calling member of the derived class\n",
        "dog1.bark();"
      ],
      "metadata": {
        "colab": {
          "base_uri": "https://localhost:8080/"
        },
        "id": "dnKlc7-bDqkL",
        "outputId": "80a7abbe-47fd-4319-aada-3df697bf87e1"
      },
      "execution_count": 4,
      "outputs": [
        {
          "output_type": "stream",
          "name": "stdout",
          "text": [
            "I can eat!\n",
            "I can sleep!\n",
            "I can bark! Woof woof!!\n"
          ]
        }
      ]
    },
    {
      "cell_type": "markdown",
      "source": [
        "# Types of Inheritance\n",
        "Types of Inheritance depend upon the number of child and parent classes involved. There are four types of inheritance in Python:\n",
        "Single Inheritance: \n",
        "\n",
        "## Single inheritance \n",
        "It enables a derived class to inherit properties from a single parent class, thus enabling code reusability and the addition of new features to existing code.\n",
        "\n",
        "![image.png](data:image/png;base64,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)"
      ],
      "metadata": {
        "id": "0DpqTlMAEPif"
      }
    },
    {
      "cell_type": "code",
      "source": [
        "# Python program to demonstrate\n",
        "# single inheritance\n",
        "\n",
        "# Base class\n",
        "class Parent:\n",
        "  def func1(self):\n",
        "    print(\"This function is in parent class.\")\n",
        "\n",
        "# Derived class\n",
        "class Child(Parent):\n",
        "  def func2(self):\n",
        "    print(\"This function is in child class.\")\n",
        "# Driver's code\n",
        "object = Child()\n",
        "object.func1()\n",
        "object.func2()"
      ],
      "metadata": {
        "colab": {
          "base_uri": "https://localhost:8080/"
        },
        "id": "lwB8Cm6TEhtk",
        "outputId": "e368d9ea-fa18-4f85-815e-65b62575cc48"
      },
      "execution_count": 18,
      "outputs": [
        {
          "output_type": "stream",
          "name": "stdout",
          "text": [
            "This function is in parent class.\n",
            "This function is in child class.\n"
          ]
        }
      ]
    },
    {
      "cell_type": "markdown",
      "source": [
        "##Multiple Inheritance: \n",
        "\n",
        "When a class can be derived from more than one base class this type of inheritance is called multiple inheritances. In multiple inheritances, all the features of the base classes are inherited into the derived class. \n",
        "\n",
        "![image.png](data:image/png;base64,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)"
      ],
      "metadata": {
        "id": "zmTDKyl9E6hG"
      }
    },
    {
      "cell_type": "code",
      "source": [
        "# Python program to demonstrate\n",
        "# multiple inheritance\n",
        "\n",
        "# Base class1\n",
        "class Mother:\n",
        "  mothername = \"\"\n",
        "  def mother(self):\n",
        "      print(self.mothername)\n",
        "\n",
        "# Base class2\n",
        "class Father:\n",
        "  fathername = \"\"\n",
        "  def father(self):\n",
        "    print(self.fathername)\n",
        "# Derived class\n",
        "class Son(Mother, Father):\n",
        "  def parents(self):\n",
        "    print(\"Father :\", self.fathername)\n",
        "    print(\"Mother :\", self.mothername)\n",
        "# Driver's code\n",
        "s1 = Son()\n",
        "s1.fathername = \"RAM\"\n",
        "s1.mothername = \"SITA\"\n",
        "s1.parents()"
      ],
      "metadata": {
        "colab": {
          "base_uri": "https://localhost:8080/"
        },
        "id": "b8h5YWheEkVz",
        "outputId": "2966b4a0-b6e8-45e9-dccf-e34a95cb97d1"
      },
      "execution_count": 7,
      "outputs": [
        {
          "output_type": "stream",
          "name": "stdout",
          "text": [
            "Father : RAM\n",
            "Mother : SITA\n"
          ]
        }
      ]
    },
    {
      "cell_type": "markdown",
      "source": [
        "##Multilevel Inheritance :\n",
        "\n",
        "In multilevel inheritance, features of the base class and the derived class are further inherited into the new derived class.\n",
        "\n",
        "![image.png](data:image/png;base64,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)"
      ],
      "metadata": {
        "id": "rps6xIUAFYfB"
      }
    },
    {
      "cell_type": "code",
      "source": [
        "# Base class\n",
        "class Vehicle:\n",
        "    def Vehicle_info(self):\n",
        "        print('Inside Vehicle class')\n",
        "\n",
        "# Child class\n",
        "class Car(Vehicle):\n",
        "    def car_info(self):\n",
        "        print('Inside Car class')\n",
        "\n",
        "# Child class\n",
        "class SportsCar(Car):\n",
        "    def sports_car_info(self):\n",
        "        print('Inside SportsCar class')\n",
        "\n",
        "# Create object of SportsCar\n",
        "s_car = SportsCar()\n",
        "\n",
        "# access Vehicle's and Car info using SportsCar object\n",
        "s_car.Vehicle_info()\n",
        "s_car.car_info()\n",
        "s_car.sports_car_info()\n"
      ],
      "metadata": {
        "colab": {
          "base_uri": "https://localhost:8080/"
        },
        "id": "gUZZf1j5E9Qy",
        "outputId": "fba9fcec-bb9d-4010-be64-f63af0fea98b"
      },
      "execution_count": 10,
      "outputs": [
        {
          "output_type": "stream",
          "name": "stdout",
          "text": [
            "Inside Vehicle class\n",
            "Inside Car class\n",
            "Inside SportsCar class\n"
          ]
        }
      ]
    },
    {
      "cell_type": "markdown",
      "source": [
        "In the above example, we can see there are three classes named Vehicle, Car, SportsCar. Vehicle is the superclass, Car is a child of Vehicle, SportsCar is a child of Car. So we can see the chaining of classes."
      ],
      "metadata": {
        "id": "5OWddiwdGohd"
      }
    },
    {
      "cell_type": "markdown",
      "source": [
        "##Hierarchical Inheritance\n",
        "\n",
        "In Hierarchical inheritance, more than one child class is derived from a single parent class. In other words, we can say one parent class and multiple child classes.\n",
        "Python hierarchical inheritance\n",
        "\n",
        "![image.png](data:image/png;base64,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)"
      ],
      "metadata": {
        "id": "n4lA_IarHV5z"
      }
    },
    {
      "cell_type": "code",
      "source": [
        "class Vehicle:\n",
        "    def info(self):\n",
        "        print(\"This is Vehicle\")\n",
        "\n",
        "class Car(Vehicle):\n",
        "    def car_info(self, name):\n",
        "        print(\"Car name is:\", name)\n",
        "\n",
        "class Truck(Vehicle):\n",
        "    def truck_info(self, name):\n",
        "        print(\"Truck name is:\", name)\n",
        "\n",
        "obj1 = Car()\n",
        "obj1.info()\n",
        "obj1.car_info('BMW')\n",
        "\n",
        "obj2 = Truck()\n",
        "obj2.info()\n",
        "obj2.truck_info('Ford')"
      ],
      "metadata": {
        "colab": {
          "base_uri": "https://localhost:8080/"
        },
        "id": "8gH4uFmcFbbF",
        "outputId": "bd453824-22a0-43f5-9a1f-b3e788aea942"
      },
      "execution_count": 11,
      "outputs": [
        {
          "output_type": "stream",
          "name": "stdout",
          "text": [
            "This is Vehicle\n",
            "Car name is: BMW\n",
            "This is Vehicle\n",
            "Truck name is: Ford\n"
          ]
        }
      ]
    },
    {
      "cell_type": "markdown",
      "source": [
        "##Hybrid Inheritance\n",
        "\n",
        "When inheritance is consists of multiple types or a combination of different inheritance is called hybrid inheritance.\n",
        "\n",
        "![image.png](data:image/png;base64,iVBORw0KGgoAAAANSUhEUgAAAVwAAAD2CAYAAACa5j8QAAAEDmlDQ1BrQ0dDb2xvclNwYWNlR2VuZXJpY1JHQgAAOI2NVV1oHFUUPpu5syskzoPUpqaSDv41lLRsUtGE2uj+ZbNt3CyTbLRBkMns3Z1pJjPj/KRpKT4UQRDBqOCT4P9bwSchaqvtiy2itFCiBIMo+ND6R6HSFwnruTOzu5O4a73L3PnmnO9+595z7t4LkLgsW5beJQIsGq4t5dPis8fmxMQ6dMF90A190C0rjpUqlSYBG+PCv9rt7yDG3tf2t/f/Z+uuUEcBiN2F2Kw4yiLiZQD+FcWyXYAEQfvICddi+AnEO2ycIOISw7UAVxieD/Cyz5mRMohfRSwoqoz+xNuIB+cj9loEB3Pw2448NaitKSLLRck2q5pOI9O9g/t/tkXda8Tbg0+PszB9FN8DuPaXKnKW4YcQn1Xk3HSIry5ps8UQ/2W5aQnxIwBdu7yFcgrxPsRjVXu8HOh0qao30cArp9SZZxDfg3h1wTzKxu5E/LUxX5wKdX5SnAzmDx4A4OIqLbB69yMesE1pKojLjVdoNsfyiPi45hZmAn3uLWdpOtfQOaVmikEs7ovj8hFWpz7EV6mel0L9Xy23FMYlPYZenAx0yDB1/PX6dledmQjikjkXCxqMJS9WtfFCyH9XtSekEF+2dH+P4tzITduTygGfv58a5VCTH5PtXD7EFZiNyUDBhHnsFTBgE0SQIA9pfFtgo6cKGuhooeilaKH41eDs38Ip+f4At1Rq/sjr6NEwQqb/I/DQqsLvaFUjvAx+eWirddAJZnAj1DFJL0mSg/gcIpPkMBkhoyCSJ8lTZIxk0TpKDjXHliJzZPO50dR5ASNSnzeLvIvod0HG/mdkmOC0z8VKnzcQ2M/Yz2vKldduXjp9bleLu0ZWn7vWc+l0JGcaai10yNrUnXLP/8Jf59ewX+c3Wgz+B34Df+vbVrc16zTMVgp9um9bxEfzPU5kPqUtVWxhs6OiWTVW+gIfywB9uXi7CGcGW/zk98k/kmvJ95IfJn/j3uQ+4c5zn3Kfcd+AyF3gLnJfcl9xH3OfR2rUee80a+6vo7EK5mmXUdyfQlrYLTwoZIU9wsPCZEtP6BWGhAlhL3p2N6sTjRdduwbHsG9kq32sgBepc+xurLPW4T9URpYGJ3ym4+8zA05u44QjST8ZIoVtu3qE7fWmdn5LPdqvgcZz8Ww8BWJ8X3w0PhQ/wnCDGd+LvlHs8dRy6bLLDuKMaZ20tZrqisPJ5ONiCq8yKhYM5cCgKOu66Lsc0aYOtZdo5QCwezI4wm9J/v0X23mlZXOfBjj8Jzv3WrY5D+CsA9D7aMs2gGfjve8ArD6mePZSeCfEYt8CONWDw8FXTxrPqx/r9Vt4biXeANh8vV7/+/16ffMD1N8AuKD/A/8leAvFY9bLAAAAXGVYSWZNTQAqAAAACAAEAQYAAwAAAAEAAgAAARIAAwAAAAEAAQAAASgAAwAAAAEAAgAAh2kABAAAAAEAAAA+AAAAAAACoAIABAAAAAEAAAFcoAMABAAAAAEAAAD2AAAAAGajV2AAAAILaVRYdFhNTDpjb20uYWRvYmUueG1wAAAAAAA8eDp4bXBtZXRhIHhtbG5zOng9ImFkb2JlOm5zOm1ldGEvIiB4OnhtcHRrPSJYTVAgQ29yZSA2LjAuMCI+CiAgIDxyZGY6UkRGIHhtbG5zOnJkZj0iaHR0cDovL3d3dy53My5vcmcvMTk5OS8wMi8yMi1yZGYtc3ludGF4LW5zIyI+CiAgICAgIDxyZGY6RGVzY3JpcHRpb24gcmRmOmFib3V0PSIiCiAgICAgICAgICAgIHhtbG5zOnRpZmY9Imh0dHA6Ly9ucy5hZG9iZS5jb20vdGlmZi8xLjAvIj4KICAgICAgICAgPHRpZmY6UmVzb2x1dGlvblVuaXQ+MjwvdGlmZjpSZXNvbHV0aW9uVW5pdD4KICAgICAgICAgPHRpZmY6T3JpZW50YXRpb24+MTwvdGlmZjpPcmllbnRhdGlvbj4KICAgICAgICAgPHRpZmY6Q29tcHJlc3Npb24+MTwvdGlmZjpDb21wcmVzc2lvbj4KICAgICAgICAgPHRpZmY6UGhvdG9tZXRyaWNJbnRlcnByZXRhdGlvbj4yPC90aWZmOlBob3RvbWV0cmljSW50ZXJwcmV0YXRpb24+CiAgICAgIDwvcmRmOkRlc2NyaXB0aW9uPgogICA8L3JkZjpSREY+CjwveDp4bXBtZXRhPgqWqErQAABAAElEQVR4Ae1dB1xUx/Y+CiIdAUVFQcTeYu8Yu8YSu1FTTO+Jaeaf99JekpdiejPRmLyYahKNxm6MvTcsWLBhQZSiICAISNH/+UaXENxFFtjde++e8/vhrnvnzpz5Zu53z5w5M1PpCguJCAKCgCAgCNgcgco2L0EKEAQEAUFAEFAICOFKRxAEBAFBwE4ICOHaCWgpRhAQBAQBIVzpA4KAICAI2AkBIVw7AS3FCAKCgCAghCt9QBAQBAQBOyEghGsnoKUYQUAQEASEcKUPCAKCgCBgJwSEcO0EtBQjCAgCgoAQrvQBQUAQEATshIAQrp2AlmIEAUFAEBDClT4gCAgCgoCdEBDCtRPQUowgIAgIAkK40gcEAUFAELATAkK4dgJaihEEBAFBQAhX+oAgIAgIAnZCQAjXTkBLMYKAICAICOFKHxAEBAFBwE4ICOHaCWgpRhAQBAQBIVzpA4KAICAI2AkBIVw7AS3FCAKCgCAghCt9QBAQBAQBOyEghGsnoKUYQUAQEASEcKUPCAKCgCBgJwSEcO0EtBQjCAgCgoAQrvQBQUAQEATshIAQrp2AlmIEAUFAEBDClT4gCAgCgoCdEHC1UzlSjMYQ2LLrMO2KPkUenr7kUtlFY9qJOiUhkJ6eQi3rB1CfmzuWlEyuaRABIVwNNoo9VNqx7yQtWhFJ9cKbULVq/vYoUsqoAATS0lJpX+Ra6tm5uRBuBeBp7yyEcO2NuEbK83AtoACfKtS+WRCFNWhCVT3dNaKZqGEJgcz0DNq/Zysdv3KWXPODLSWT3zWMgBCuhhvHXqr5+LhSnTpe5FFVuoO9MLe2nOxL+bR7VzJlpKVQdk6+tbdLeo0gIE+YRhrCUWrk5V+h8+ezqYa/NwV5upCLSyVHqSLlWkCgoIDbKOEMJZw+TukXLlhIJT/rAQEhXD20ko11LCgooDNJOaoUL7+qNi5NsrcWgYT4i3Qs9iJlZ1+y9lZJrzEEhHA11iCOUufyFaL45HzyypIu4ag2MFdupSvZlJCYRrmXhGzN4aO33+Tp0luL2VhfWFGVKolbwcYwlzr7/LwCulxwudTpJaG2ERDC1Xb7OES7K1fY3BXRBAIYeYgYBwFZaWactpSaCAKCgMYREMLVeAOJeoKAIGAcBIRwjdOWUhNBQBDQOAJCuBpvIFFPEBAEjIOAEK5x2lJqIggIAhpHQAhX4w0k6gkCgoBxEBDCNU5bSk0EAUFA4wgI4Wq8gUQ9QUAQMA4CQrjGaUupiSAgCGgcASFcjTeQqOdYBI4d3kfP3j+Elvz+HWVdzHCsMlK67hGQpb26b0L7VuDk0Wia9uG/6WxSwnUF9xowgvoOGUd1Qxtcd02LP2xau5T+WjiLTp04otRr2PQmGn7bvXQ2MYFad+iufvvivX/Rwb3bKKLPUC1WQXTSGQJCuDprMEerGxQcQmMmPkU7Nq2g1Ut/pcf+733y8QugLeuW0dYNKyg3N5cGjbzLYaSbci6BTh47RNX8q1ODJq0swjX9o5fpwJ5t1KFrbxo65j6VLjU5kRbMnkmnY49RndBwCglrRANuHU9JZ05YzEcuCALWICCEaw1akpY8vXyoReuOlHL2DG3x8lOWYGCN2lS7bj2CNbhr2zpq0Lilwwg3KnITxZ08Qm069rDYWrBst234izp260sDht1OteuEqbTpaefJ3cNLHWOTfC6Rwhu3Un+e3tUs5iUXBAFrEBDCtQYtSWsRAbgRQFyJZ2IpIyOd8vLy6MTRA7RyyW+F9zRt2Z66RPQjT59qdPjALoplSzST02ZcSCV3Ju9+g0YpyxTndm3ftIryci9RYM261L3XLYrAT586RkcO7CZX1ypUky3tVUvnqLwHj7iL6rA1umHlAlr8+0zKSE9lK/cIpZxLoj6DxhSWjy8gVaQBsXbs3r+QbHHNr1oAde4xgOo1aEourq5UubL5KY7ovZG0dvlc3EKVXVwoJLQhDRh+B1WpUoXLTKCNa5ZSVmYGhYY35qOLwsg3oAb5+FajU8cP0QrGo3bd+tSoaWvy5cM7awQFU1V3D5WX/GN8BIRwjd/GdqkhyBDE6e3jRz78l5qcQLvZ2ow9Fs0E1pziYmPo4L5INVSv6uZOyxf+Qvt2bqLqteqok4N9fP35RIMsPkZmO0Xv3UkFBfmKzDaunK/0b9WmM0VFbmQ3xmx2YfgrsszPz1d5eHn70LDbHlLp8vJyKZ/vtSSpbLmeijlAbTtFUI0ata5LBvLDScaWBIS6j10RMYf2UljD5pSSEKes5ZbtuvJLIZy2rlvOdTjBRxW50s4tayiGSbXXwNGUn5tNq/+8StJpKUn0xy/TqUefW5mI/YVwLYFtwN+FcA3YqPaqUvbFdFq5bB75+frSkYN72c2QQC2YGOE7Lbh8mQmtJt3+wGRq2aYL7WGyfGPyXYShujcTJMg5KzONya0PTXz4BeWqAJn9+sf3lJGZRe269Kaqbm6KzHZt/ovc3d3ZOk1W97i6VaXA6kE0fNz99MNX79IhtnoH5GQqa/bQ/p2Uev4cDR19N7s7rncrZDGpQ/wCg8nT29tqqPBSqF27Lk18aDI1a92FDu2PpOceuJX9vCepVnAoRW5dS2069aA2HSJ4sm07RzZk8kvIl9LOJyt3ywuvf0GuVavSwt++IV/GDVaxiPMgIITrPG1d4TXNyc6mbeuWMmlc7UaY2Yc1Z7IQ4WKAawGTWOcSTxeW37RlB0qKj6P8vHw1vIZfGAIyi9q1ncnVk3KyroZgBdWsTUG1Q6lBo6bKgkxhwg6qVVf5Xi/lZLMboDrfeVjdX5p/qjLZQWBB46VgrcB1gj+UnRh/StWjaB7BIWG0f/cWKmBLu0GTluyyqEfwcaNuQWzNz501jbr0HKRwwvH0proXzUO+GxcBIVzjtq3Na+ZfvRa9NOUbRSjFCwMhpaeeowT26a5bsZB2b19HFzMziye77v+uVdxo7MQnqOeAkYVDbfhdYQnCJVFeqRZQnS3bajzsP8m+3jQmxH/meJlPu8jJyqScnBxC2uJiqlfsiRjauXW1ssCLpkGExm8zP6FF7Cd2ZbdCJ/YJ33b3JOWrHXbb/TT9g5d4Um6b8iE/MOlVZf2LD7cogsb+bn5WwNh1ltrZAYGEuBP0w7Q36ZO3nqP2HHr1309/4Qkxf1VyQd4luny5wKwWlV3dKZbjYnOYsEF+Bfl5tG39n6UmW0xiQeDfhXWNE4mLCqzNtp170oHdm5QlWnQxA8rDhNvuHRtow6qFXPb1vuDT7Iv+ccb79O3U/1LzVh3p3S9/L8we9YJPdtKLH9EnM/9UZLt142pa+9cfPNHnSg15ouyrOZvUPfk8Ibhw9v84BC2m8H75YnwEhHCN38YVWkOQEp9qyGR0lchAiOq3YqWcTYyj+DNn6IGnXqNOHA1gkgImQVh4STzZdPnyVUIz3Q+yurnPLTTrmw8oikkvJzNduSNAzh6ePpz+6gFfyh3ARIpPk4BYkQ9cDMjn9KnjtHfnRhWVYEpj+hx3zySqHdKQPp/yPC2a+4MiZdyffj6FJ7qYIJfP4wUQ96tIhStXirgdWI/Y44fpSsElGnvX49SdF0MUdUtEbl1Hrz93F0dYrFCTh31uGc1xvONUsXCr4NoVdmMEBtWhe554merWa2hSST6dBAFxKThJQ1dUNWMORtE7Lz1EiaePq2H3g2O70e0P/VuFdMF6NElQrRAVkfDOv+5TxBVUK5TSUlPpvVcepvbd+qnVXXFsyR4/sl/5O0fd8aiKPkC0wbmEk/TZ208rCzU0vBlNfOTfPBF2lub++AWT6CZlKWemneVQsObKis5jX/Dn+bn00DNvqlAsLMqA+2Hk+AfZmu1lUqnwE66Qd6fNozk/fE6LZ39Ns2a8o675MlkjVOyZlz9W5H00ejdNefkRgp5ff/IKXeKjypvf1J4quVSlj15/gj5962l1X81awfTG83fTfz6apeKSv/n0NXrv5YeUhdx70Fhl8SZz3LKffw0a1bOeugfW81tT56hIh0LF5IvhEajEJ7ReNRsMX1WpYFEEvv55Ka3cuJ+6d+tMIfXCVJyoij29wRHp8GGeOxv/j+F2NY4zReSBC8fHmgTD+QscVZCZcUH9hLxNQ3QPDw/KxXCfSQe/wyJFDCwEVipm9DPSz6v/u/EkV0BgTWXNpqelUC6THu7x8PDkONkqdCE95bp0mRwBAcvTj2NfEfNrSeAbRrSESS/k6+nly+XVULcUr6uvXyBf9+I6pRXWCwlNdUOUAlwhRfNEhAJeRBgJpKX+jQfuQ/ob+W+BY+aFdFXPs4ln6HjMQfaHb6HeER3o7f++iGxEdISAWLg6aiwtqAqCKM1eCZjkAtEUtXpLo39lJnwQnon0it5jbkbfP/D6iS1z6YrmY/oOkjcRvem3op+W6orfLdUL18zliZdRWfAoqo981z8C4sPVfxtKDQQBQUAnCAjh6qShRE1BQBDQPwJCuPpvQ6mBICAI6AQBIVydNJSoKQgIAvpHQAhX/20oNRAEBAGdICCEq5OGEjUFAUFA/wgI4eq/DaUGgoAgoBMEhHB10lCipiAgCOgfAVn4oP82rNAaYEWUiCAgCNgGASFc2+Cqy1zzLuXwvgaXdKm7KC0I6AEBIVw9tJKNdbzCu3Zh3wOxbm0MdBmzL7ojWRmzkNs0goAQrkYawlFq5Odm8laJZyg3++oJC47SQ8otGYG8giuUfVHaqGSUtH9VCFf7bWQzDQvycighIYlcK51m6/afG3XbrFDJuMwI5PN+vJfFx15m/LRwoxCuFlrBQTqk57hQSuqNj71xkHpSrBkEcvO96LJHMHn7+pm5Kj9pHQEhXK23kI30a9msAWXnu6iztSqTMbZEPnzkKAVV9yd/M2eR2QhGh2TbsXVDalr/783eHaKEFFomBGQD8jLB5pw3ZWVlU1paqjre27sMR4zbGrV33nqLbu7Zk7pHRNi6KKvyz+TDM8+fP08BAQG8Ubv1R7NbVZgk1jQCsvBB082jHeVw5texo0dowfz5fF7YKe0oVkSTNWvX0omTJ4v8oo2vINuVK1bQqpUrrzvUUhsaihb2QkAI115I67yc88nJtHnzZlq9Zg25ubnpvDb2VR9WLU7AePPNN+nEsWN8GGaRgyntq4qU5mAEhHAd3AB6KB4EsX3HDtqybRsNu/VWCm/YUJNqV66sze4MV0LPXr2oe/fuNOnppykjI0NIV5M9yPZKabOH2r7eUoIVCMQcOULbmGyr+fnRsOHDrbjTvknD6tUj/2qWD420rzb/LK1u3br0/OTJanTwwvPPK5/uP1PI/5wBASFcZ2jlctQRR4MvWLiQTsXF0YTx48nHx6ccudn21jfffpt69+lr20LKmDus75q1a9Pb7FY4dPgwzf/jD0pmN42IcyEghOtc7W11bdevW0dJSWcpgofDrVq34aPJtdtlfvv1V4rev8/qOtrrBlc+hr1Bo0b0yssv0+zZs2n1qlWUnp5ur+KlHA0goN2nRwPgOLsKpzgaYdmyZeTp6UH9+vVXn1rGZC2/HGJjY7WsIlWtWpW6do+gMWPG0Jzff6fNmzYRwu1EnAMBIVznaGerawlXwl/Ll1Nubi517NCB6obUtToPe9+QnpZG2ay31gUvsJEjRlCb1q1pBYeL7Yvao3WVRb8KQkAIt4KANFo20fv30969e6lNmzbUsXNnwnBYpOIQqFGzJo0fN07humjxYtq7R0i34tDVbk5CuNptG4dphpVRIAFfX1/q0L4D1apVy2G6WFNweIMGmo1SMFcP+HOHDBlCZ8+epSVLltAZnpgUMTYCQrjGbt8y1W4LL3A4eOgQtWvXjho2blSmPBxx0+hRo6hZ06aOKLrMZSI+d+CAAZSQmEh/sXsBq9JEjIuAjBON27ZW1wwLHNLYD/r9998r/2KHjh11tfa/TnCwpsPWLDXI0GHD6AIvhtiyZQv5ctjdoCFDNT9Baaku8nvJCIiFWzI+TnU1Ly+PFnHMLYa4fXr3pmAmMD3J0888Q8vZStSbIHLhVibdFs1b0K8cLrZ3z269VUH0LSUCQrilBMroybA5TUJ8An3zzTf0+OOPU7MWLWSizI6NXr16dRo5ehS1bduBPvz4YwkVsyP29ixKCNeeaGu4LATg//DD99S+fXu1vaFsI2j/xsLy3wH9eqsX3WOPPWp/BaREmyMghGtziLVfAKISNm3YQIsWLaIn2LqtptH9CLSPZPk0xCq+VhybO+mJJ5Rb590pUyg/P798mcrdmkJACFdTzeEYZRLj42kur+1HiFIIbwCj15jbhx96iDpwZIWeBf5ckO7TkybRKl76u2b1asIiFBFjICCEa4x2LHMt4plsV/DG2BcvXqR77rlX7dta5swcfGN4eDj5GsA69/T0pM5du9I9995Lr7z6Ku3ZtUtI18F9q6KKF8KtKCR1mA8sp/28mmwzhyMhhjWsfpimN6e5EcRz582jIxw/rHeBawG7st1yyy3Ur29fmvrll3zaxlE5LULvDcv6C+EaoBHLWoWTx4/Tzp07qTavJOvXv39Zs9HMfdu3b6fTbLEbQUC68KU/9PDD5OHuTrPnzCG0l4i+ERDC1Xf7lVl7rGiCZRvLy0mHcQwowpJEtIUASDc0NJQeuP9+iomJocWLlxB2cBPRLwJCuPptuzJrjphbbJayb98+asB+z46dOpU5L7nR9gh06tKFhg4dSjsid6hJNNlD1/aY26oEWdprK2Q1nG9SUhJt4+G3u4cHjR17m9qjVcPqllq1li1bUs2goFKn11PC8RMm0Llz5ygqKoqCuI49e/WW5b96asBruoqFq8NGK4vKiLWFZYu4TpzicO5cMnVmyxYTZUaRyXxWWNdu3YxSnevqcf8DD6q9LRAvjT100ZbY/wLtKicBXweXJn8QwtVks1S8Uqs49CvuVBwdio6m9evX8z4Jtan/gIEVX5ADc1zKWxzGHDnqQA1sWzQ2Lr/n7rvVQZQzeYOh03GnKSfnEp05c4ZS2PoV0rUt/hWRuxBuRaCogzye4xNjBw0eRE88+aR6YLtxnCceYCPJ73xkzf7oA0aq0nV1CWOf+yMcueDt5c0xuq/QwgXzVUjfPA6Ju3LlynXp5QdtISA+XG21R4VrA6snkfdazeedwGJjT/Fs9zFy5zCjDHYxGE2cwcJD5ELDxo2pU6eO9A4v/V3EkQsQ7F8shKv9Hi2Eq/02KreGadc2tS4ouLouf9PmLeTlNZ0qV6pEfQ0Qf1tugHSUARarbOGDJ/+YP58O83HrOTk55OLiSqt5CTB8uXpdlq2jJiiXquJSKBd82r8ZVs+FCxco79omKLBue/SIoJG8sqxFq1bar4AVGgbXqUM+3t5W3KG/pCDUSmzlZmdnK7JFDfAiTeCj7DN4E3NnsPL112p/aywW7t9YGPIbCDeJNxSvwg9qa94U5VaO5+zfr58i24CAAEPV+RHevCYkJMRQdSpeGRcXF2rB4W/PPP00deX43HU8Abp5y1bKYQLGSjQsCcYGOCLaRMCuhBt9OJZWbNpPHt5+2kTDgFoVFFymqMho8gpuR77BjanA7ybaH1+JDiZFW13bnOyLFOhdie4YPcDqe+1xQwq7TrS4Yu74qSSavyKSvH0qst+7kktgSwoMv0J1UqvSpfQ4+nH+Bmp8JJ2quBlrMtQefSf9XBxNGDWQ6ta2rRFiV8Ldf/g4zVuyntq2akrevtXsgaOUwQj4+NeiwUNuJTd3Hx6OutKZhBSrccm8kEa79x2i6h6ZmiXcORylMHLECDWpZHUFbXjD6fhEWrDUNv2+XnhTCg1rSNkZiaoG8Ylp3MbGmxC1YfPQSZ5M3r19LfXp1tpYhAvQAnwqUYtGNald8zDy8PSyJY6SdwUhkJ11kQ4c2EfHo5MpN1u7e7PGczyqVqMvfD0uS7+voP5Ykdkksu97ZepB2sojhIL8nIrM2mxedrVwTRp4u+aQj0dlqhsSxDGhVUw/y6cGEcAs+Mnj6ZSRdo4KstOpspu7BrXUh0pVr2SQR5XLFFonUO07DH+siGMQQETHBT6h+sTRJEo9n2A3JRxCuDgdFsdx+/v7k1tgoISy2K25rSsIS0exq1gs71CVkpJq3c0OSO3H2xl6aHjCKD//MmHjGUSNBHK/R0wt/kTsiwAiOWBInD59mmJPnrRr4Q4hXNQQlU5NTaVK/JbHvp+ICRXRFgKpKSl0hrdvTOeXox5kKB8R1KhRI82rCsvKzc1NRRQgekTEvgjkXMqlZN5LBJsB2Vsc2toIWUpn0s3NzaUqMryyd9uXWB7aBBvcZGVllZhOSxfvvuceLalToi5YjHKJQ7lAvCL2Q6CAOScnO4fOJiU65NgihxKuCeYcfqht7642lSafpUEA7gTTyrTSpNdCmrFjx9KE8eNp1OjRWlDnhjpg1ZgcEHlDmCo0AYw8LBoxLQSq0MxLkZk4kEoBkjMmQcfUm8D1kcUPk4ggYAkBU782fVpKZ6vfhXBthazkKwgIAoJAMQSEcIsBIv8VBAQBQcBWCAjh2gpZydfuCOBY8Ya8X6yIIKBVBDQxaaZVcEQvfSFwc48eFFy3rr6UFm2dCgGxcJ2quY1d2b18CvHZxCRjV1Jqp2sEhHB13XyifFEEfv31V8MfsVO0vvJdfwgI4eqvzURjQUAQ0CkCQrg6bThRWxAQBPSHgCEJF/s0lHTUCIKei6fBb1hdVVJAtClNRTUzdECZIhWDgLNtBmPqjyX1WVM/L5oGfe5Gz8eNngVrWsycDtbcb6S0hiPcBD6h9tnnnqMp777LuzJlmG2rk7xD0Ecff0yT+JgSk+CokuEjR9KWbdtMP/3jE3ktWLiQxvDyUez4VF45w3u3Tv3iC7r/gQfKm5Xcfw2Bb2fOpGHDhjkFHhcvXqTf586libx/xCE+TNKSTP9qhurnUXv3qiTod+MmTKAffvyRkIc52ciHVE566ik+umeLuctW//bd99/TC//6FyFfZxfdhYW99957tG3HDnVgHhpv9Oix1LxZE7XJSssWLeh//NCt37iJhg4eZLFt6/Bhg/fcfTfl8jaReJPj9NP3P/hAHSFeYMbixK5mfy5fTl9Om6bOBivJOkCh8QkJ9DETuqmT47d/vfCC2pYvLCyM6gQH8/HWi+m7H36k0Lp1cNnm8sGHH1IqL329nfcaaME4GVF2bN9OzZo2pcb8p2fBhkHbuY+//c47hdWIiIigwYMGqX0AAnhb06MxMfTBRx9T9cCAEkdJ424bS5d4IyLcc+LECfqQ+2VMzDF+XswvgV6xYgV98tlnqlxso1qSpPBuckuWLqWffv5ZJfP08KA+ffrQsFtvpQPR0dShfXtav2EDLWRDxdPLi26UX0ll3egadPmLdZ/53Xcqae1ategdxi+4du0b3WrX67ogXJBifHw8vfLqqwqceybeTTVqVFffd+3eQ1OnTqWw+vXppptuogF8QGJUVFSJIGKHJtPZVxhqhYSEqsMVZ37/g9n7vPkk2I4dOtCQwYPpr7/+MpsGP2KPzW380H81YwZV8/OjN157rTDtXytX0ja2nkeyFR3KBx124PwOHTpEsLZtKdDpsccfpwMHD1FYaAhl8/+NKrD4xvDGNXom3FO89/DsOXNo1+7ddOcdd1BD3m4Sw9Az3P9hKbryrnqjuY5t+EDQIWxUoE+VJNh31yQ1a9akUdz/og8c4H14zW+H2qZNGx4ljKB169aYbjP7GblzpzqqHaO9B3mUFsLxzwXsIoP+L778MtXn57F5s2bUvXt32s/lwbK2lUAHlIFPPHPYmAYj3OnTp9ODDz6odLNV2dbmqwvCxYbNs375hQ4dOUqvv/oKH/Pdg7z4jQmpEcSnRlR1oyweHuHk0tB69cjP17fUOFTifXh9fX2oAa9QcqtiHo4qVapQUFBNqs/WaUly7NgxWsyWK3aAQids27ZtYXKcpAoLwOfamx6dH29fWxMujtW+jd0gCxctKjxWu1Apg31JYneSVo/YKQ3UcFvtiIykjRs3Uq9evZQRgL2i0UeTk5O5DwbRJh6WZ2ZmKoMhnEntRoRbtFxPT09q2KABuXJ/tiQ1atSgRg3DafOmDZaSqH1kV69aRad5r2RY3QMHDFTPEEZ+IFqcBr16zRrK4ecA/4e1eY5PjraVXOQRAfz3/fv3V88xDLRBvOoQfR5n3OFloBUxzzBa0Y71gIV25MgRZVl279aVOnfuXEi2UBNECWsSw350zqIWXOTOSNrLvqsLGRnUjy3fdvz2dnd3V0P+nZE7qbJLZWW1WqouOjkeAPy5s1UcUP2qVW0uPR6W3Xv2UPTBg9SXh1VFyRbp8f/q3JnhssDLItfMpt54Q//40090nusCgSXctWtXatK4sfJHR+2Noi2bN1MrtuR9+aXSqGFD1bnht163bp3q4GH8wgGZ1wutpx4CEC6WvMLPB4taRLsInDx5gtasXasUhBWLE1FMghFZD3Yr4LP4Hro4PeWzzz+nNO4/aH+MxGDZwjWBuQkQdG8mcNOozpRn0c+VTKCwqn35mPUb7YGMdDt37VKjSrgQYLBAQHowIvAHoyeI+7s5wbOyes1qwkIVk4AY0c9Rt92cP3CAvniWDvPz36d3b5X0F461hmsEzzM2b4eronat2tSYRwLo9xDogedt2Z9/qv9r6R/NEy72rjzBw+6zvDt7927dCJZicUHnMg2dstl/ivOK4ENCg+Gte2D/ftWR6rLv1IOtzJU8vF+yZIkarqFzmhOQLZz86BSwTLEh9x4mVEuSfiFdDadwvV27dmaTFX3Twp9aVKDnFp6kiGa9YbXDYodPCr/XCw2lhMQEwkOBjnzixEl+OHbRE+wqAPFuZj0xlIPrAxMdeDnczT5q04NQtBwjf8cRO2grvQpenCATWIVF+0rR+sBHDQGJQpJTzhP8rugH6Pe/zZ5NzZs3Jz82QkC23/zvf1ST+xP6pCXCXcsv613sIsjhPu7G1m8CP0OZFibUUCbmPNB/e/JLHRaxOenSpYu5n5W/OS7uFP3CI9aOHTuqNEvZDwyih58ZAuMgnUe1EJzEDIsVLwy4DYAPZOvWrerFANcciLp4Xwc+uAYjTEuiecIF4WDIAKnNhAmLrTSSwVZtAx4+9bz5ZrZqPbhjJivSxlswM/NiiR0K+eOtCrKFxTDxrruUD+qtt9+2WDQIGdY4LOgaTPRlEfjAxowZQ+354UhMSlITbzhPDBbHWR6SHT16lN5+801lzScyAftwJwUeu/hFEB7ekHr17EH7+eWCh8HDw7MsKuj6HkzWwOrXq8C4gFgz0YOJKEyK3XfvvepeRNokxCeoyUNYvngOQLiWBCNDDL2bNGlG9wy/VVmH8IWjr1kS9Ef0PX9/68kMcyaV2Q/dmn3QkzmaCJLEfR0+Xkx8ZXLe+H8nJmP4gDG53KpVKxWuCcsXPuzxPPEbFbWXUs6nECbAiws4Yx8/uwPYxQA3jJakdOzlQI0xPMBbF5LLPiGAeSPBaahd2PXQI6KHsvq8vb0IBIUODcshons3flMeLzEbdDhYDCbXgI+PryJvS8NyF9YTvjG4DMqymzzqabK24/hwO/h24Qqpyf4viMmyn/fHH4SJjQkc2oO6gHD9+S1+MHo/ebi7UeMmTVTdi7/xS6ysQS5iYrO6xh4wa6DFXAGGyXhxl1Zq16qpJtfgNzVJFh9rDwNg4IABylosyX+KaAekDQ8LLSSnxmwxYrRlSTDsV/38BlEM5u5HHWGlN+UwMRA3XBMwNPA7BH0ZBgOsdoxGYSnfxIQLP3Zd7u8IzYRrLoznU1q2bKF+K1oO6nKALWEYPiBs01xP0TSO/I4JUE0LiCaYLVsXF1flg8Tworigg+JNbRpmFb9elv8n8vAOb1wPbrjSCN741QOrK7IFWZoTdDDoaemBghsDnWXpsuU0a9YsfliOFGaDyQ74udbzMBEzsJ9++ikdO35chdoMHz6cMJzGcPL999+nufPmqXIKb3aSL4hrRmiYXgXDXxAnwgrh5zQn6CPoQxUliP6BVGESLa3UZh+tC78YMOpCnzYnsFgtXcPvCJlE6Ns0jiTYtHkLZVxzIYCMu/G8BeqIfv76G2+oyB8QLvy4sIyXc4jmf157jcMqf6DY2NjC4kG2eCZ+5/4Pi7+oD7wwkYO/aJ5wMbOKRqgfVo9+ZhICwEXj+fAdPt6NHHtb0jDIWpzxFocfFX41kDzO98KEHKxX+JOLEz98yE2bNlHF/MFWaPETQUGye7iTwceKEJ/igvxmz/mdnpw0iV8ulej/nn+e+vbupZLB0nZ1raImEGb/9hu9/dZbykeN4VYyvxQwBH2B089kfx1cKPDd4c/ZBJOrKXw4o14F7quWLVsqf/yKlSuuIyyQ0GKeewBRVZTAsjzPmKG/oo+iH2Ikie9wSZgzDmBxYnSFYTt0KZ4GeX3PZIiRWnFB/kd49Hgnu+lmfP01Tf9yGt11x+3Kv4y4eCzGiOBQsq85tPLTTz4hkPv//evfKhtcm/zss/QL88DDDz2krPD5CxaoayYeWLZsGY0fN05NvqEskDs+tSKaJ1wABTJ7jv09eOs/8thjapiERsYfHOybeOY+Ny9XDbXzrw1zMEzJz7+6sAFuCPwfxAXw8WkSNBSu51/7Df9HGsT0ooF/5qBu+JQQOYBJLEwogBRxpn1xac33jGUf7B72L0FPk474xNApkjtnIFswCOfBkMxUJt7MkL/+Wk533nmnCrXx53RX65Cvyvru++/oxZdeUrpiqIRJMVhDOF7+I+6YmJHFxEmvnj2pP8/gulR2KVQP+aNOKA/4aKkDFiopX5Q/EpNDGFa/98GHtGrVakUYpn70MbczXEhdu3Qt7MuADW2KPox0EBgFqk+jzYt9N7m7VH/ga1icADfGH/PnK2MABgYibdBfP+MFEJg4LrosGPlj4QxCM/Gyn8aLgRDFY9IRn088+ST1YmsUk72mcqAP/jBqxORzE3Z9ffvNN0yMVdTv6OuIKIIe+MP8SX12G2BiGOGauBcjN/RzzG8g3hqLQeCKwzW8bOey7xnPBvz4KBfPKBZmxHH4mlbEVSuKlKQH/DFd2ZezgWdTH3zoQbr73vsUYeGeFi2a0x23364c5Hhzvs0TW1u3/T2s9GILGVEJZ3giATOcm5mcj/Pnhg0byYtn9S/ybOYtAwfSa2/8l1KSz6klje+89TYNGnQLZfNqnOkzvqLBQ29Vs6DdOEoikQkXliTevMUFBHg7+1bhY5309HPUuWu3wiQ9ekTQ/TzMwQQAyoe1/vPPs9T1obwc9U/uGEN50gcrZT797HMmZn9K4xcM9IN/GEtWYbWa8qxZM4hm8HAMkwKYpPuCh9Nv/PdNcme/18D+/ej+++5TeeMBuIOtCcws5+Xlq9nd//ACErwYRLSHAPoHVilidda/X3qRXF79+xF9fvJzys9/5cplQngUXCho3xf+/W9Cmz751NN0IT1NDcUx3Adxop9D8LJFbCoW5RznYff0r75SRIVTjidPnqzKxHJeuO8QzdCpUye6e+JE9QLHcL64YIKyKZMm3FiPsnEBl59JvuZnBlYwnlssof+NR25pbLDAQr+P+2V7Jvl3prxb2JfR11POp1Lfvn3U5F1SUoIi3ZiYYxzqFaRWaZryRrjYJ+xOg/E1gPs53GyrOHrnnSlT1DOOeP2iurzJLgktTZxV4reX3Y5nnb1wDf0ybzmN7NeWGoeHKB8L3tjmGtQEcPFP+Lcw5DGpXZUbFaFSKraVLTm8dS9de9MjTApvQJzkCisAaauyqwBDFyySQLlwWeBevHlNli9CXXAvLFwMq2AhYiIOaeFWwNJc5GtJYCXjLWyytpEO9yJUB50Q17GYA38QTLZhiIZOlJaWqvRAeXhzo57wD0MfWNmoG/SGDw0B5cAPHRlhPCgP15DeFCaH++GnQ5kmzALZ13yjSTWkh08c9YeFH3PsBG2LjKLKbu60aO5PSm+t/fM+L/tGrGoXfjFqSdZvjaL3p/7E/b4dNWsUWtjvLfUhWGdYepvCkTVFBe2GCWAIYrbRNhD0H4ycQLKmNoY/GAsP0M8heBF7eXpxuFV6Yb9EGvQV3AO3AobfyAt9D/0IzxX6rSUp3o9N6WCMYO4FeSBf9CM8W6ZnFW4M+HhNYppsxnMIVx7qjxcJnjtT3aAHno+cnGx1DflBd4zqoEfR59eULz5BtrgXukDwTCFvxCynsm6wfvcdPEwr1myhWd/P4OgI8yGd6uYK+Ofv11IFZGaPLEoKmUFjmbv+9+JGyxqam83Eb+Z+t5zL1SvoUCBQS4LrIEQTKZrSgQRLIkJzdcO9mBywNEGAjmYudMZUppE+72B3DB5AvQteojfqC+baPIyH4DcSS/3LtGjgRvcXvW6pHxdNg1Ef/ooLYo2tFUuY4Lkvy3NqbfkVkd6ymVYRuUsegoAdEfjm6//Rbg7gFxEEtIqAEK5WW0b0shqBjRvXU6yGJkisroDcYHgEhHAN38RSQUFAENAKAkK4WmkJ0UMQEAQMj4AQruGb2Hkq2JQXyASVcR8L50FJaupIBHQXpeBIsKRsbSOAeOwQXq0lIghoFQGxcLXaMqKX1Qhgc6LcS1dX7Vl9s9wgCNgBASFcO4AsRdgHAZwBtnHTRvsUJqUIAmVAQAi3DKDJLYKAICAIlAUBTfhwsZTPtCSxLJWQeyoeASydlDapeFyL5ij9viga9vmOPu3Ifu1wwoXfLT8fD/eNNxa3T5NIKSYE0DFNa9BNv8lnxSCA9fzS7ysGS2tzwX4KjurXDiNcbMeGDThwwu1lfrBFtIkArDC9vApf5F2zwuqHaxPIa1qhr2PTImygZNosSdMKG1Q5bI/qCN5xCOHm519WO1BhJyMQr4h2EVC7K3E7Xb6snU2cLaGFnaVwErOWBcfdYFcu6feObyXsMoYtS+0pdidcDKMSz52ntBTeQPySfStrT2CNVhYsMq3L/PkLaODAARTKG19rUaTfa69VrlzmbUvJfjRov5IYaze3qrx/qwslZ14mlyuwREp/jpL2msq5NMqlQPIOrMNnX1XVbMX37o2iNm3baE6/KryHsPR7zTXLNYWYg9wrU42aobzHdOnOLyxPTexKuI3r16FeN/fgM+i9y6Oz3OsgBLKa30TVPMTfbi38NatXU/3ey9uXXCqJC81a/OyRvkF4/cITsm1Znl0Jt3mTeoQ/EUHAFgjgNA1XPq1AaxIeWpOeum+I1tQSfRyAgLZnGBwAiBSpXwTatWtn9qw5/dZINDcaAnY908xo4OmlPgi9M50dZ+kcLb3UpSQ9UU+cx4W6OoMgggR/aFMjt6uR2lIsXCO1ppm6II72ez4JeCcf0Y5wJCPL66+/Thv5ZGNnkRPHjtFsPjU3kY82F9EHAkK4+mincmmJAwJffuUVwgNqZNmzZ486LdnIdTTV7XhMDP0861daumSJbg5QNOnuzJ9CuAZvfQw1e/XurWZgv5oxg6L37zdsjXFMfD7vAWF0SU5OphUrVtCRI4dowoQJfHS6RP3opc2FcPXSUmXUE4Tr5+dHTz7+OJ0+c4bW8ZBbhqBlBFMDt8FPvXrVKtq5axf1iIigiB49lN9aA6qJCqVAQAi3FCAZIUm7Dh1ozJgxtJOPEd+0YQP7c7ONUK1/1KFtuw4UXKvWP34z2n+2b93KZLuHcJzQoCFD1MvUaHU0cn2EcI3cukXqhpn7wYMH87LXMNq2fTtF7d5V5Koxvo6/bQw1b9nSGJUxU4vDBw/SsuXLycPdjQb076/ZJcxmVJefriEghOtEXSEgIIDGjB6parxi5UqKOXLEULWPjY2l9NRUQ9XJVBnsrLdw0SLKzMigzp07U9PmzU2X5FNHCAjh6qixKkJVWIA9e/ZUftxlf/6ptsisiHy1kMeX06bRDnaZGE0Q2reG/bbHjh+nbt26Ubfu3Z0m1thobSmEa7QWLUV9+vFwtGPHjnQgOpo2sj9X9mUtBWgOTLJ/7z6av3AhdWjfXkWcYBJURJ8ICOHqs93KpXXVqlVp4C23UEjduvTTzz9T7IkT5cpPbrYNAlhFdv78eZr6xVQKDg6mXjwyqWXwSUHbIKmdXIVwtdMWdtUEDzAmXmAtffDhh+rkDbsqYIPCPL28yI03ITeCqI3fcy7RdzNnUjqfEDF29GgKCw83QtWcug4ur7E4NQJOXPnaTLqevMPWEl6tVIlxaNNGe3vJWtM8sNhbsI/aCEPu7Owc2rRxA7319ts09bPPqEWrVuK3taYzaDStWLgabRh7qIVFEZ27dqVHH32Upk2fTofYpwvLSq/iwyuu3Nz0v6k9FjdE799Hr7z6Kj337LMUGhYmZKvXTllMbyHcYoA42389PT2pY6dONGHceHrsiSf4jCftH6VjqY0++uQT2rFtm6XLuvgdEQnHjh6lH378kSK6R9CIkSPJx8dHF7qLkjdGQAj3xhgZOgWs3KCgIHUWmDf7QN+dMkW3oWLxvHQ5neNU9SynTp6kRYsXqyo89ugjhNhptJGIMRCQljRGO5arFliFVr9BA3r6qado7bp1tJ2txMzMzHLlKTdbj0B8fDyt5Hjbffv20bhx4yi8YUMhW+th1PQdQriabh77KYdQse68EcroUaPoW54Z3xcVZYjIBfshWL6S8ILbumULbedl113Zr96B46RFjIeAEK7x2rTMNarCIVUTbr+dvNiv+8f8+bqLzx0+fDg1bdy4zPV31I3w20bxXr7btkeqeNuR/NLDC1DEeAgI4RqvTctcI/gK4TOEa+EE+xKx3wKGuXqRvn366DJWFQtPNm/eTFVcK9OokaMU6eoFc9HTOgSEcK3DyylSt7zpJurfr5/y565nn65e/LkLePnr0cOHddVG2Ez8T94BLDUtjfrzQpQ27drqSn9R1joEhHCtw8tpUt9510QKD2+ofIoHeBJHD/strMIGLzpapox42z95A6EdkZHUhF0hXdh3K2JsBIRwjd2+Za6dp6cHPf74o8q6nTd/ISXqyLVQ5krb8UYsMMH+tsvZum3bug0NHjRI/LZ2xN9RRQnhOgp5HZQbGhpK4zk8KSkpQW1yowOVdaNiBscLv897WDRr1pKGjxhBNfigTxHjIyCEa/w2LlcNESrWu1cvOsqrn2b/9lu58rL1zWG8BNa/WjVbF1Mh+b/15pvqtN0B/XpTSGhIheQpmWgfAdm8Rvtt5FANsSgCWwLi4MmtfJ4WfI1VeL+ChQsWUN2QELV3QaVK2PrG/oJheUJCAu3hAxVP8Obc1fz9CaFtcH/kZGeTj6+vJvYgwGkNBw8coOysLKXT73Pm0NKlS2nixIkq3tadNxAScQ4EXJ2jmlLL8iCApb/9+val5JQUevGll6hFixa0bNkyasmfjfkwQ0cuPcVmNZ9NnUonebLMdEQ6YlixN8SDDz9cnmpX2L0g3GXLV9LaNSsJscJz582ju5lsO/HiBuxlIeI8CAjhOk9bl7mmINTqTLo+vNfC+o2b1Mm/Z8+dU0d1h4U3cKgViY1dWvD5XmvXraeU5HOqjq1bt6aAwAC2vrWxN24abyK+ffsWWrN2HcWdPq107MLnkgVUr+7Ql1WZO4TcWGYExIdbZuic50acOoB43BUcdpXGhzSeiotTlT916hTvLpbrMCDwIoA1O4p31ApjP6iLi6v66xERQd04xAruEC0ILNzDHB9cUJCvPpNTztPvc+fSGd5sRw/hdlrA0Cg6COEapSVtXI8qTF6BgYFUr15oYUlxTLhaIIwmzZpRn779edezGtSsaRN10GK9+vUL9XTkF+CTxosaTp8+o9SAv9bP10ftyJaf67iXlSMxceaytWECOHML6KDuWO47kONE69Wrx8PitYQFBocOHaI9e/dSrgZIA1bumFEjaMeObdSubTv+a6sZ6xar9JLOnlWtDFcH3B8dO3RU22HW4UlHFxcXHfQAUbGiEBDCrSgkDZ6PN5+m0IE3Km/FpDFwwACa98cfav2/i4MiFIrD3aLVTTR0yBAmsw5qW8Pi1x31/9ycHOX2GDFiuDpDrkePmymURwmOnGh0FBZSLlGlKywChCBgLQIYKu/lHa6a8xliWtnZKisrW02UacV3C0yhU1paqgqfq86TZCLOjYAQrhO2P4a52ZcKqFJlGc7qrfmvXC4gLw83Difz0Jvqoi8jIC4FJ+wGH3+ziFZu2ENufnWcsPb6rvKFxCM0Zlhfev6RkfquiJNqL4TrhA3vzuGpobWr0c1dG1JocC0nRECfVd4bfZiWLFxLrrmJ+qyAaC0WrrP2Aa+qV6iOf2VqEhZA/gGBzgqDbup94lgM5aWfopwsfR+SqRvAbaSoWLg2AlYP2V7MukSXcrI5NKmSLDHVcINh4Ulc3CnKunhBw1qKaqVBQAi3NCgZOE0Wb6hy4cIFtemLVqINDAy3VVXD5jzYxjGelwOn8Wq1vPzLVt0vibWHgBCu9trErhohvCuLoxYQF+rh4SGB+HZFv+TCsKgklTcMgoWLgyZF9I+AEK7+27DcNYAlBdItyMsrd16SQcUhgCN4sCw4T8i24kB1cE5CuA5uAK0Uj/UveMBFtIEA2iOPX4AYgVzhF6KIMRCQzWuM0Y5SC0FAENABAkK4OmgkUVEQEASMgYAQrjHaUWohCAgCOkBACFcHjSQqCgKCgDEQEMI1RjtKLQQBQUAHCAjh6qCRREVBQBAwBgJCuMZoR6mFICAI6AABIVwdNJKoKAgIAsZAQAjXGO0otRAEBAEdICArzXTQSHpUMSYmhrZu20YR3btTWFiY2Srs3r2b4hMS1MGKSHPx4kXatn272kznloEDCSfcFpc43sglOjqaQkND+YTepsUvW/1/6Hns+HEKqlGD2vLhkyKCgC0REMK1JboGzfvChQxasnRJYe2w6U3XLl0oO5vPFOMTdC/xwYmzfv2VNm7cSHXr1rVIuJlMsKmpqZTN6UG2kTt30jf/+x+5cx49b775OsIF2S5YsIBP591BQ4cOLZFwsSw25tgx2sPnrkEqV6pENWvVou7dutGRI0coJCSUd+K6QIuXLCEQfw8uz1aEi41nEhITFR4m0G5l/XEwp4hzISCE61ztXa7a5jAxnomPp0gmvJ9+/plCmEwhnl5ehHPS4s+coZtuuomqVatGx9hyvJH0iIgg/EGu7vkaR4ls8cLaNSfJ587R8RMnKJ23KixJQOLRBw/SunXrKCoqivz9/dVuaLVq11bEvp31v+uOOxTRn2Gdb5RfSWWV5tq55GR1tPzWrVtVchB+cHCwOmHY09OzNFlIGoMgIIRrkIa0RzVOs4X5w48/0s5du+ixRx+lQbfcoogMZPnp559TZGQk1atXj27h31Pw22eflVqtgIAAdYz4wUOHKIFJ3ZzAAs3mDXZm//abucvqN1iTm7dsoblz55Kvry+9+sor1KJFC7W94VF+CUyZMkWlww5crfjE4T59+qhNYixmWM4L0AcvkWQm3enTpqmyvvjyS1q9Zg3V5xcLXCMizoOAEK7ztHW5aoq9WaP27qU1a9fSnXdOpCGDBxfmB7J8/T//oTm//06Bgf88rgeEc/bsWbrE97u4uFANPiq8ShU+VI0FliXy9fHxuc59UJg5f4ELI/NipvopgzdLL0mSkpJo1erVapetsWPHKrJFehydDp/v9999Rx99/DFV4f+bE+gL98YF3vjbJP5sscMSxZ7BsPKxYTt28/Jiyx67efn5+amkqM9F3tDdg33PLi6uXObVU5FhsU9+7jmVBulxXDrycr2Gg6kc+TQ+AuZ7nfHrLTW0EoGjR4/Sps2bldUY0a2L2bvHjhlz3e/xbK3OmjWLreLdfK8PzfjqK2rapImyOGHpYdLqySeesOg/hS/2l99ms8U6R+Vdt04d5cK4rqBrP8C6PXz4MLVv146aN2tmNtmzzzxj9nf8CHfEzJkz6YefflJp8vLy6YX/e56GDxtGeLFgIhDX4X8eM3o0wa/8f5MnE/YUnslkvnDhQurXr5/yzzZv3pz69e2ryBoEjdM14BKZ8u67tJjTBbOLQ8S5EJCwMOdq7zLXFpZbGpORN1t1zSwQWfHMj/Ps/3dMQo888ght2bRRXd6/fz9PVmXS51On0u/z/ih+y3X/nzZ9OqUkn6U3//tfmsHfQWLwgVqS86npynqFjxS+ZGsF1vginkibP28ebWPyHjFiuHJRnDh5kk6zvzeB3QPDmHxfY4t+F7tWMCkHMt27bx/lsrtjGrsN6tevTzt5AhAuGJOc5Psfe/xxmnD77cpKNv0un86FgFi4ztXeZa7tZSYVDIddeCiO4XBpJDQkhB5nkmnTujW5ublRUFCQOqPr0qUcuveeeyidh+Zxp05ZzAp+TxDX4EGDVB4otx1briDy0kgljkywVho1akS/skVes2ZN5YaAnxdWLSxYbAR+iK1nuBUQ7vavF15QmKAMXFvJrgz4mfuzhduXfcPu7h6FxSNa4/333lPuiMfYor/v/vvp008/VX7kwkTyxfAIlO7JMTwMUsEbIeDJfknM9uNUiBQ+Z6s0Ah8lfLogW4gr+3BB3LAIkRd8oCUJht8QX/aRIg/4Yd05BM2Un7l7q/l6qyNpEDVRFkHeddhtAQEpfvvtt3SOrV4IXhht27RRk2APs9X+n9dfp1NxcQRib9y4MXXt2pWmz5hBD/OE4uw5c/h4nFR1H/6B3xr3w5/70osv0sXsHIK/GeQt4jwICOE6T1uXq6a1OIa1YcOGlMrRB2s53MqcINwKf5h0qggBucNXas3RPyC+2uwbhW94H7svzAlC2uB7NSdYiPESRzZMeuopGs0+WsTn+nC0AwQLMRDG9uSTT9K4cePUb1+yHxoLJxCLPPGuu2gSX0NMMmKFFy5apCYMVcJr/+Cl0bFDB/LycFcRC7CcRZwHASFc52nrctUUFmm79u2VhTZ79mxa9uefaphtyhREe4wXGkAQjVAR0qBBA8LR7es3bFDkCWsQIWN7OVpi1apVZIprLVpWgwYNqWPHzmryaw5bmQcOHCi8DMv6Nw4pQySCOR0xqYVVbOvXr1cLL+AaaMkhZfBbx8bGKhIHuYI0sXABf3i5YKLtFLtGQPJIP2H8eGrALydY2cizqIBg97D+phdDSdZ60fvkuzEQEB+uMdrR5rXAkLgZRxfczpM+CA3DirCDvLjA5M91c6vKE1rNqCGTJPycS3jiKTnlPK1YuVKFgu3gGF1YjxuYzLBgAqFVO/m3c7yYYR3/BgI8zJNhB9gqxbUlS5cWktqixYvpKx6qI28sVPDgEC0stjC3aACREP369uaJs8qKmKdxVATuMwn07Nu3DwXwCwRkDP8s4nMRnhbOk10geAhWhn3JE2BwGeC6F68KQ3lwA4B0Ed6GSbImjAkm6JI4/aZNm9SqNVjC+Rxd0YT9wZANvOIOvmiT4ProUaMIcbggbxHnQUBa23nautw1hZXbq2dPNQuPBRCY9DJJBC+Zbc2rzJAGUQQ12F9569Ah5MNEBTIDiWKRAQTLbDM4zrUpRzvgz5vjcHOZoCCt2UcKgRWKSTpYkUgfzQsiYC3C6u3UqZMiUaxqMycNwsOZEGuoRQUgu1Q+atwkt0+YoIgVLxDoVTOoJnXgIT70hDRhl8TIESMK70EYGqIdwnhBB8K4sJgCemD1mBe7EW5ml0NtdrdA19Y8OYjwOZQXxmTahifQTOlNOuDFgom1zlwHc3tFmPSUT2MiUImHWVeMWTWplSUE3v/iF7bSTlDfri2ofuhVEgERlGVW31IZ8nv5EMBjiRhkvKjSmMCxpPrQ4aO0bnMkjRs7ip6Z9Gj5CpC7HYKA+HAdArsUKggIAs6IgBCuM7a61FkQEAQcgoAQrkNgl0IFAUHAGREQwnXGVpc6CwKCgEMQEMJ1COxSqCAgCDgjAkK4ztjqUmdBQBBwCAJCuA6BXQoVBAQBZ0RACNcZW13qLAgIAg5BQAjXIbBLoYKAIOCMgRVh5wAAAW9JREFUCMjSXmdsdQt1xnJaEe0gIDuJaactKkoTIdyKQlLH+ZiWkQrhaqsRZdW9ttqjIrQRwq0IFHWcB6yobN4MOy8v9x/bLeq4SoZSXaxcQzUnCeEaqz2tqk0+73CFPVsv5Z4XsrUKOfsmzuNdzbAbmYj+ERDC1X8blrkGFy+kUEzaOcrOyi5zHnKjfRAouFxABflXt7C0T4lSii0QEMK1Bao6yDMzI42On8LhhzJRpoPmKlSxsuvV8+EKf5AvukJACFdXzVUxylarxocy+tSlLBcfPg+nYvKUXOyAQBWi4Aa+FFTn7xMs7FCqFFGBCMgG5BUIpl6ySk7N5NNic/WiruhZBAGcjBHo50l+fvyyFNEdAkK4umsyUVgQEAT0ioCsNNNry4negoAgoDsEhHB112SisCAgCOgVASFcvbac6C0ICAK6Q0AIV3dNJgoLAoKAXhEQwtVry4negoAgoDsEhHB112SisCAgCOgVgf8HD6QKB2zkOHkAAAAASUVORK5CYII=)"
      ],
      "metadata": {
        "id": "KidasV1wHfiM"
      }
    },
    {
      "cell_type": "code",
      "source": [
        "class Vehicle:\n",
        "    def vehicle_info(self):\n",
        "        print(\"Inside Vehicle class\")\n",
        "\n",
        "class Car(Vehicle):\n",
        "    def car_info(self):\n",
        "        print(\"Inside Car class\")\n",
        "\n",
        "class Truck(Vehicle):\n",
        "    def truck_info(self):\n",
        "        print(\"Inside Truck class\")\n",
        "\n",
        "# Sports Car can inherits properties of Vehicle and Car\n",
        "class SportsCar(Car, Vehicle):\n",
        "    def sports_car_info(self):\n",
        "        print(\"Inside SportsCar class\")\n",
        "\n",
        "# create object\n",
        "s_car = SportsCar()\n",
        "\n",
        "s_car.vehicle_info()\n",
        "s_car.car_info()\n",
        "s_car.sports_car_info()"
      ],
      "metadata": {
        "colab": {
          "base_uri": "https://localhost:8080/"
        },
        "id": "U4RzEdglHVgv",
        "outputId": "862f1abf-b94f-47d4-c76a-f2dd179052ed"
      },
      "execution_count": 12,
      "outputs": [
        {
          "output_type": "stream",
          "name": "stdout",
          "text": [
            "Inside Vehicle class\n",
            "Inside Car class\n",
            "Inside SportsCar class\n"
          ]
        }
      ]
    },
    {
      "cell_type": "markdown",
      "source": [
        "Note: In the above example, hierarchical and multiple inheritance exists. Here we created, parent class Vehicle and two child classes named Car and Truck this is hierarchical inheritance.\n",
        "\n",
        "Another is SportsCar inherit from two parent classes named Car and Vehicle. This is multiple inheritance."
      ],
      "metadata": {
        "id": "wleJMvKcHrH9"
      }
    },
    {
      "cell_type": "markdown",
      "source": [
        "#Python super() function\n",
        "\n",
        "When a class inherits all properties and behavior from the parent class is called inheritance. In such a case, the inherited class is a subclass and the latter class is the parent class.\n",
        "\n",
        "In child class, we can refer to parent class by using the super() function. The super function returns a temporary object of the parent class that allows us to call a parent class method inside a child class method.\n",
        "\n",
        "Benefits of using the super() function.\n",
        "\n",
        "1. We are not required to remember or specify the parent class name to access its methods.\n",
        "2. We can use the super() function in both single and multiple inheritances.\n",
        "3. The super() function support code reusability as there is no need to write the entire function"
      ],
      "metadata": {
        "id": "Osz3qW_kH0Xj"
      }
    },
    {
      "cell_type": "code",
      "source": [
        "class Company:\n",
        "    def company_name(self):\n",
        "        return 'Google'\n",
        "\n",
        "class Employee(Company):\n",
        "    def info(self):\n",
        "        # Calling the superclass method using super()function\n",
        "        c_name = super().company_name()\n",
        "        print(\"Jessa works at\", c_name)\n",
        "\n",
        "# Creating object of child class\n",
        "emp = Employee()\n",
        "emp.info()"
      ],
      "metadata": {
        "colab": {
          "base_uri": "https://localhost:8080/"
        },
        "id": "dR0UYJiUHahd",
        "outputId": "2a15205d-8864-48fb-8c5a-bbb524b268c5"
      },
      "execution_count": 13,
      "outputs": [
        {
          "output_type": "stream",
          "name": "stdout",
          "text": [
            "Jessa works at Google\n"
          ]
        }
      ]
    },
    {
      "cell_type": "markdown",
      "source": [
        "In the above example, we create a parent class Company and child class Employee. In Employee class, we call the parent class method by using a super() function."
      ],
      "metadata": {
        "id": "j8RYelREIBns"
      }
    },
    {
      "cell_type": "markdown",
      "source": [
        "#issubclass() \n",
        "\n",
        "In Python, we can verify whether a particular class is a subclass of another class. For this purpose, we can use Python built-in function issubclass(). This function returns True if the given class is the subclass of the specified class. Otherwise, it returns False.\n",
        "\n",
        "Syntax\n",
        "\n",
        "issubclass(class, classinfo)\n",
        "\n",
        "Where,\n",
        "\n",
        "    class: class to be checked.\n",
        "    classinfo: a class, type, or a tuple of classes or data types."
      ],
      "metadata": {
        "id": "t2fJAX50IGBF"
      }
    },
    {
      "cell_type": "code",
      "source": [
        "class Company:\n",
        "    def fun1(self):\n",
        "        print(\"Inside parent class\")\n",
        "\n",
        "class Employee(Company):\n",
        "    def fun2(self):\n",
        "        print(\"Inside child class.\")\n",
        "\n",
        "class Player:\n",
        "    def fun3(self):\n",
        "        print(\"Inside Player class.\")\n",
        "\n",
        "# Result True\n",
        "print(issubclass(Employee, Company))\n",
        "\n",
        "# Result False\n",
        "print(issubclass(Employee, list))\n",
        "\n",
        "# Result False\n",
        "print(issubclass(Player, Company))\n",
        "\n",
        "# Result True\n",
        "print(issubclass(Employee, (list, Company)))\n",
        "\n",
        "# Result True\n",
        "print(issubclass(Company, (list, Company)))"
      ],
      "metadata": {
        "colab": {
          "base_uri": "https://localhost:8080/"
        },
        "id": "gSQnG3eTIEBJ",
        "outputId": "460f5a8a-21cf-4509-b229-df076d9caffe"
      },
      "execution_count": 14,
      "outputs": [
        {
          "output_type": "stream",
          "name": "stdout",
          "text": [
            "True\n",
            "False\n",
            "False\n",
            "True\n",
            "True\n"
          ]
        }
      ]
    },
    {
      "cell_type": "markdown",
      "source": [
        "#Method Overriding\n",
        "\n",
        "In inheritance, all members available in the parent class are by default available in the child class. If the child class does not satisfy with parent class implementation, then the child class is allowed to redefine that method by extending additional functions in the child class. This concept is called method overriding.\n",
        "\n",
        "When a child class method has the same name, same parameters, and same return type as a method in its superclass, then the method in the child is said to override the method in the parent class.\n",
        "\n",
        "![image.png](data:image/png;base64,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)"
      ],
      "metadata": {
        "id": "fRW3trGaIlhH"
      }
    },
    {
      "cell_type": "code",
      "source": [
        "class Vehicle:\n",
        "    def max_speed(self):\n",
        "        print(\"max speed is 100 Km/Hour\")\n",
        "\n",
        "class Car(Vehicle):\n",
        "    # overridden the implementation of Vehicle class\n",
        "    def max_speed(self):\n",
        "        print(\"max speed is 200 Km/Hour\")\n",
        "\n",
        "# Creating object of Car class\n",
        "car = Car()\n",
        "car.max_speed()"
      ],
      "metadata": {
        "colab": {
          "base_uri": "https://localhost:8080/"
        },
        "id": "PCRRhwQFIotX",
        "outputId": "5b37559c-b66f-4869-9885-f2804bd698a9"
      },
      "execution_count": 15,
      "outputs": [
        {
          "output_type": "stream",
          "name": "stdout",
          "text": [
            "max speed is 200 Km/Hour\n"
          ]
        }
      ]
    },
    {
      "cell_type": "markdown",
      "source": [
        "In the above example, we create two classes named Vehicle (Parent class) and Car (Child class). The class Car extends from the class Vehicle so, all properties of the parent class are available in the child class. In addition to that, the child class redefined the method max_speed()."
      ],
      "metadata": {
        "id": "aBP6NGVZIzaa"
      }
    },
    {
      "cell_type": "markdown",
      "source": [
        "#Method Resolution Order in Python\n",
        "\n",
        "In Python, Method Resolution Order(MRO) is the order by which Python looks for a method or attribute. First, the method or attribute is searched within a class, and then it follows the order we specified while inheriting.\n",
        "\n",
        "This order is also called the Linearization of a class, and a set of rules is called MRO (Method Resolution Order). The MRO plays an essential role in multiple inheritances as a single method may found in multiple parent classes.\n",
        "\n",
        "In multiple inheritance, the following search order is followed.\n",
        "\n",
        "1. First, it searches in the current parent class if not available, then searches in the parents class specified while inheriting (that is left to right.)\n",
        "2. We can get the MRO of a class. For this purpose, we can use either the mro attribute or the mro() method.\n",
        "\n",
        "\n"
      ],
      "metadata": {
        "id": "_R6PIcSbI4DH"
      }
    },
    {
      "cell_type": "code",
      "source": [
        "class A:\n",
        "    def process(self):\n",
        "        print(\" In class A\")\n",
        "\n",
        "class B(A):\n",
        "    def process(self):\n",
        "        print(\" In class B\")\n",
        "\n",
        "class C(B, A):\n",
        "    def process(self):\n",
        "        print(\" In class C\")\n",
        "\n",
        "# Creating object of C class\n",
        "C1 = C()\n",
        "C1.process()\n",
        "print(C.mro())\n",
        "# In class C\n",
        "# [<class '__main__.C'>, <class '__main__.B'>, <class '__main__.A'>, <class 'object'>]"
      ],
      "metadata": {
        "colab": {
          "base_uri": "https://localhost:8080/"
        },
        "id": "f18rln4YI-_g",
        "outputId": "c53b15d9-384c-4ee6-ddb8-aa6173f8ac76"
      },
      "execution_count": 17,
      "outputs": [
        {
          "output_type": "stream",
          "name": "stdout",
          "text": [
            " In class C\n",
            "[<class '__main__.C'>, <class '__main__.B'>, <class '__main__.A'>, <class 'object'>]\n"
          ]
        }
      ]
    },
    {
      "cell_type": "markdown",
      "source": [
        "In the above example, we create three classes named A, B and C. Class B is inherited from A, class C inherits from B and A. When we create an object of the C class and calling the process() method, Python looks for the process() method in the current class in the C class itself.\n",
        "\n",
        "Then search for parent classes, namely B and A, because C class inherit from B and A. that is, C(B, A) and always search in left to right manner."
      ],
      "metadata": {
        "id": "trspNqBqJeQu"
      }
    }
  ]
}